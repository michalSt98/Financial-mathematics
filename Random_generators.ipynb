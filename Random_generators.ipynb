{
 "cells": [
  {
   "cell_type": "markdown",
   "metadata": {},
   "source": [
    "# Lab1\n"
   ]
  },
  {
   "cell_type": "code",
   "execution_count": 1,
   "metadata": {},
   "outputs": [],
   "source": [
    "import numpy as np\n",
    "import math\n",
    "import matplotlib.pyplot as plt\n",
    "import scipy as sp"
   ]
  },
  {
   "cell_type": "markdown",
   "metadata": {},
   "source": [
    "## Zad1"
   ]
  },
  {
   "cell_type": "code",
   "execution_count": 7,
   "metadata": {},
   "outputs": [],
   "source": [
    "k = 1\n",
    "m = 2**35\n",
    "a1 = np.floor(math.pi*10**9)\n",
    "a0 = np.floor(math.e*10**9)\n",
    "x = 11\n",
    "mem = []"
   ]
  },
  {
   "cell_type": "code",
   "execution_count": 10,
   "metadata": {},
   "outputs": [],
   "source": [
    "for i in range(int(1e6)):\n",
    "    mem.append(((a1*x+a0)%m)/m)\n",
    "    x = ((a1*x+a0)%m)\n"
   ]
  },
  {
   "cell_type": "code",
   "execution_count": 11,
   "metadata": {
    "scrolled": true
   },
   "outputs": [
    {
     "data": {
      "image/png": "[encoded data removed]",
      "text/plain": [
       "<Figure size 432x288 with 1 Axes>"
      ]
     },
     "metadata": {
      "needs_background": "light"
     },
     "output_type": "display_data"
    }
   ],
   "source": [
    "plt.hist(mem, bins=1000)\n",
    "plt.show()"
   ]
  },
  {
   "cell_type": "markdown",
   "metadata": {},
   "source": [
    "## Zad2"
   ]
  },
  {
   "cell_type": "code",
   "execution_count": 44,
   "metadata": {},
   "outputs": [],
   "source": [
    "X = 0\n",
    "Y = 0\n",
    "\n",
    "def fancy_function(x):\n",
    "    return (1 + math.cos(x))/(1 + math.e**(-1/2))*math.e**(-x**2/2)/math.sqrt(2*math.pi)\n",
    "\n",
    "List = []\n",
    "for i in range(int(1e6)):\n",
    "    while(True):\n",
    "        X = np.random.uniform(low = -math.pi, high = math.pi)\n",
    "        Y = np.random.uniform(low = 0, high = 0.5)\n",
    "        if(Y<=fancy_function(X)):\n",
    "            break\n",
    "    List.append(X)"
   ]
  },
  {
   "cell_type": "code",
   "execution_count": 45,
   "metadata": {},
   "outputs": [
    {
     "data": {
      "image/png": "[encoded data removed]",
      "text/plain": [
       "<Figure size 432x288 with 1 Axes>"
      ]
     },
     "metadata": {
      "needs_background": "light"
     },
     "output_type": "display_data"
    }
   ],
   "source": [
    "plt.hist(List, bins=1000)\n",
    "plt.show()"
   ]
  },
  {
   "cell_type": "markdown",
   "metadata": {},
   "source": [
    "## Zad3"
   ]
  },
  {
   "cell_type": "markdown",
   "metadata": {},
   "source": [
    "### Przykład 1. \n",
    "#### algorytm generowania liczb z rozkładu dyskretnego"
   ]
  },
  {
   "cell_type": "code",
   "execution_count": 56,
   "metadata": {},
   "outputs": [],
   "source": [
    "# lambda = 10\n",
    "x = range(50)\n",
    "p = [(math.e**(-10))*10**k/math.factorial(k) for k in x]\n",
    "q = [0]\n",
    "\n",
    "for i in range(50):\n",
    "    q.append(q[i]+p[i])\n",
    "\n",
    "List = []\n",
    "for i in range(int(1e6)):\n",
    "    U = np.random.uniform()\n",
    "    j = 0\n",
    "    while(U>q[j]):\n",
    "        j += 1\n",
    "    List.append(x[j])\n",
    "    "
   ]
  },
  {
   "cell_type": "code",
   "execution_count": 58,
   "metadata": {
    "scrolled": true
   },
   "outputs": [
    {
     "data": {
      "image/png": "[encoded data removed]",
      "text/plain": [
       "<Figure size 432x288 with 1 Axes>"
      ]
     },
     "metadata": {
      "needs_background": "light"
     },
     "output_type": "display_data"
    }
   ],
   "source": [
    "plt.hist(List)\n",
    "plt.show()"
   ]
  },
  {
   "cell_type": "markdown",
   "metadata": {},
   "source": [
    "### Przykład 2.\n",
    "#### Graniczny przypadek rozkładu dwumianowego"
   ]
  },
  {
   "cell_type": "code",
   "execution_count": 81,
   "metadata": {},
   "outputs": [],
   "source": [
    "# n duże, p małe\n",
    "\n",
    "n = 100\n",
    "p = 0.01\n",
    "\n",
    "List = []\n",
    "\n",
    "for i in range(int(1e5)):\n",
    "    X = 0\n",
    "    for i in range(n):\n",
    "        U = np.random.uniform()\n",
    "        if(U<p):\n",
    "            X += 1\n",
    "    List.append(X)\n"
   ]
  },
  {
   "cell_type": "code",
   "execution_count": 82,
   "metadata": {
    "scrolled": false
   },
   "outputs": [
    {
     "data": {
      "image/png": "[encoded data removed]",
      "text/plain": [
       "<Figure size 432x288 with 1 Axes>"
      ]
     },
     "metadata": {
      "needs_background": "light"
     },
     "output_type": "display_data"
    }
   ],
   "source": [
    "plt.hist(List)\n",
    "plt.show()"
   ]
  },
  {
   "cell_type": "markdown",
   "metadata": {},
   "source": [
    "### Przykład 3. Przyrosty procesu Poissona"
   ]
  },
  {
   "cell_type": "code",
   "execution_count": 8,
   "metadata": {},
   "outputs": [],
   "source": [
    "lambda_par = 1\n",
    "delta_t = 10 #różnica czasów przyrostów\n",
    "length = int(1e6)\n",
    "Nt = []\n",
    "# Lambda z Poiss to delta_t*lambda_par\n",
    "\n",
    "for i in range(length):\n",
    "    miedzyczasy = np.random.exponential(scale = lambda_par, size = int(1e3))\n",
    "    cumsum = 0\n",
    "    j = 0\n",
    "    while(cumsum<delta_t):\n",
    "        cumsum += miedzyczasy[j]\n",
    "        j += 1\n",
    "    Nt.append(j)\n"
   ]
  },
  {
   "cell_type": "code",
   "execution_count": 9,
   "metadata": {},
   "outputs": [
    {
     "data": {
      "image/png": "[encoded data removed]",
      "text/plain": [
       "<Figure size 432x288 with 1 Axes>"
      ]
     },
     "metadata": {
      "needs_background": "light"
     },
     "output_type": "display_data"
    }
   ],
   "source": [
    "plt.hist(Nt)\n",
    "plt.show()"
   ]
  },
  {
   "cell_type": "markdown",
   "metadata": {},
   "source": [
    "## Zad4"
   ]
  },
  {
   "cell_type": "markdown",
   "metadata": {},
   "source": [
    "### Dystrybuanta empiryczna"
   ]
  },
  {
   "cell_type": "code",
   "execution_count": 12,
   "metadata": {
    "collapsed": true
   },
   "outputs": [
    {
     "name": "stderr",
     "output_type": "stream",
     "text": [
      "C:\\Users\\jaiko\\Anaconda3\\lib\\site-packages\\pynverse\\inverse.py:196: RuntimeWarning: Results obtained with less than 2 decimal digits of accuracy\n",
      "  % accuracy, RuntimeWarning)\n",
      "C:\\Users\\jaiko\\Anaconda3\\lib\\site-packages\\pynverse\\inverse.py:196: RuntimeWarning: Results obtained with less than 2 decimal digits of accuracy\n",
      "  % accuracy, RuntimeWarning)\n",
      "C:\\Users\\jaiko\\Anaconda3\\lib\\site-packages\\pynverse\\inverse.py:196: RuntimeWarning: Results obtained with less than 2 decimal digits of accuracy\n",
      "  % accuracy, RuntimeWarning)\n",
      "C:\\Users\\jaiko\\Anaconda3\\lib\\site-packages\\pynverse\\inverse.py:196: RuntimeWarning: Results obtained with less than 2 decimal digits of accuracy\n",
      "  % accuracy, RuntimeWarning)\n",
      "C:\\Users\\jaiko\\Anaconda3\\lib\\site-packages\\pynverse\\inverse.py:196: RuntimeWarning: Results obtained with less than 2 decimal digits of accuracy\n",
      "  % accuracy, RuntimeWarning)\n",
      "C:\\Users\\jaiko\\Anaconda3\\lib\\site-packages\\pynverse\\inverse.py:196: RuntimeWarning: Results obtained with less than 2 decimal digits of accuracy\n",
      "  % accuracy, RuntimeWarning)\n",
      "C:\\Users\\jaiko\\Anaconda3\\lib\\site-packages\\pynverse\\inverse.py:196: RuntimeWarning: Results obtained with less than 2 decimal digits of accuracy\n",
      "  % accuracy, RuntimeWarning)\n",
      "C:\\Users\\jaiko\\Anaconda3\\lib\\site-packages\\pynverse\\inverse.py:196: RuntimeWarning: Results obtained with less than 2 decimal digits of accuracy\n",
      "  % accuracy, RuntimeWarning)\n",
      "C:\\Users\\jaiko\\Anaconda3\\lib\\site-packages\\pynverse\\inverse.py:196: RuntimeWarning: Results obtained with less than 2 decimal digits of accuracy\n",
      "  % accuracy, RuntimeWarning)\n",
      "C:\\Users\\jaiko\\Anaconda3\\lib\\site-packages\\pynverse\\inverse.py:196: RuntimeWarning: Results obtained with less than 2 decimal digits of accuracy\n",
      "  % accuracy, RuntimeWarning)\n",
      "C:\\Users\\jaiko\\Anaconda3\\lib\\site-packages\\pynverse\\inverse.py:196: RuntimeWarning: Results obtained with less than 2 decimal digits of accuracy\n",
      "  % accuracy, RuntimeWarning)\n",
      "C:\\Users\\jaiko\\Anaconda3\\lib\\site-packages\\pynverse\\inverse.py:196: RuntimeWarning: Results obtained with less than 2 decimal digits of accuracy\n",
      "  % accuracy, RuntimeWarning)\n",
      "C:\\Users\\jaiko\\Anaconda3\\lib\\site-packages\\pynverse\\inverse.py:196: RuntimeWarning: Results obtained with less than 2 decimal digits of accuracy\n",
      "  % accuracy, RuntimeWarning)\n",
      "C:\\Users\\jaiko\\Anaconda3\\lib\\site-packages\\pynverse\\inverse.py:196: RuntimeWarning: Results obtained with less than 2 decimal digits of accuracy\n",
      "  % accuracy, RuntimeWarning)\n",
      "C:\\Users\\jaiko\\Anaconda3\\lib\\site-packages\\pynverse\\inverse.py:196: RuntimeWarning: Results obtained with less than 2 decimal digits of accuracy\n",
      "  % accuracy, RuntimeWarning)\n",
      "C:\\Users\\jaiko\\Anaconda3\\lib\\site-packages\\pynverse\\inverse.py:196: RuntimeWarning: Results obtained with less than 2 decimal digits of accuracy\n",
      "  % accuracy, RuntimeWarning)\n",
      "C:\\Users\\jaiko\\Anaconda3\\lib\\site-packages\\pynverse\\inverse.py:196: RuntimeWarning: Results obtained with less than 2 decimal digits of accuracy\n",
      "  % accuracy, RuntimeWarning)\n",
      "C:\\Users\\jaiko\\Anaconda3\\lib\\site-packages\\pynverse\\inverse.py:196: RuntimeWarning: Results obtained with less than 2 decimal digits of accuracy\n",
      "  % accuracy, RuntimeWarning)\n",
      "C:\\Users\\jaiko\\Anaconda3\\lib\\site-packages\\pynverse\\inverse.py:196: RuntimeWarning: Results obtained with less than 2 decimal digits of accuracy\n",
      "  % accuracy, RuntimeWarning)\n",
      "C:\\Users\\jaiko\\Anaconda3\\lib\\site-packages\\pynverse\\inverse.py:196: RuntimeWarning: Results obtained with less than 2 decimal digits of accuracy\n",
      "  % accuracy, RuntimeWarning)\n",
      "C:\\Users\\jaiko\\Anaconda3\\lib\\site-packages\\pynverse\\inverse.py:196: RuntimeWarning: Results obtained with less than 2 decimal digits of accuracy\n",
      "  % accuracy, RuntimeWarning)\n",
      "C:\\Users\\jaiko\\Anaconda3\\lib\\site-packages\\pynverse\\inverse.py:196: RuntimeWarning: Results obtained with less than 2 decimal digits of accuracy\n",
      "  % accuracy, RuntimeWarning)\n",
      "C:\\Users\\jaiko\\Anaconda3\\lib\\site-packages\\pynverse\\inverse.py:196: RuntimeWarning: Results obtained with less than 2 decimal digits of accuracy\n",
      "  % accuracy, RuntimeWarning)\n",
      "C:\\Users\\jaiko\\Anaconda3\\lib\\site-packages\\pynverse\\inverse.py:196: RuntimeWarning: Results obtained with less than 2 decimal digits of accuracy\n",
      "  % accuracy, RuntimeWarning)\n",
      "C:\\Users\\jaiko\\Anaconda3\\lib\\site-packages\\pynverse\\inverse.py:196: RuntimeWarning: Results obtained with less than 2 decimal digits of accuracy\n",
      "  % accuracy, RuntimeWarning)\n",
      "C:\\Users\\jaiko\\Anaconda3\\lib\\site-packages\\pynverse\\inverse.py:196: RuntimeWarning: Results obtained with less than 2 decimal digits of accuracy\n",
      "  % accuracy, RuntimeWarning)\n",
      "C:\\Users\\jaiko\\Anaconda3\\lib\\site-packages\\pynverse\\inverse.py:196: RuntimeWarning: Results obtained with less than 2 decimal digits of accuracy\n",
      "  % accuracy, RuntimeWarning)\n",
      "C:\\Users\\jaiko\\Anaconda3\\lib\\site-packages\\pynverse\\inverse.py:196: RuntimeWarning: Results obtained with less than 2 decimal digits of accuracy\n",
      "  % accuracy, RuntimeWarning)\n",
      "C:\\Users\\jaiko\\Anaconda3\\lib\\site-packages\\pynverse\\inverse.py:196: RuntimeWarning: Results obtained with less than 2 decimal digits of accuracy\n",
      "  % accuracy, RuntimeWarning)\n",
      "C:\\Users\\jaiko\\Anaconda3\\lib\\site-packages\\pynverse\\inverse.py:196: RuntimeWarning: Results obtained with less than 2 decimal digits of accuracy\n",
      "  % accuracy, RuntimeWarning)\n",
      "C:\\Users\\jaiko\\Anaconda3\\lib\\site-packages\\pynverse\\inverse.py:196: RuntimeWarning: Results obtained with less than 2 decimal digits of accuracy\n",
      "  % accuracy, RuntimeWarning)\n",
      "C:\\Users\\jaiko\\Anaconda3\\lib\\site-packages\\pynverse\\inverse.py:196: RuntimeWarning: Results obtained with less than 2 decimal digits of accuracy\n",
      "  % accuracy, RuntimeWarning)\n",
      "C:\\Users\\jaiko\\Anaconda3\\lib\\site-packages\\pynverse\\inverse.py:196: RuntimeWarning: Results obtained with less than 2 decimal digits of accuracy\n",
      "  % accuracy, RuntimeWarning)\n",
      "C:\\Users\\jaiko\\Anaconda3\\lib\\site-packages\\pynverse\\inverse.py:196: RuntimeWarning: Results obtained with less than 2 decimal digits of accuracy\n",
      "  % accuracy, RuntimeWarning)\n",
      "C:\\Users\\jaiko\\Anaconda3\\lib\\site-packages\\pynverse\\inverse.py:196: RuntimeWarning: Results obtained with less than 2 decimal digits of accuracy\n",
      "  % accuracy, RuntimeWarning)\n",
      "C:\\Users\\jaiko\\Anaconda3\\lib\\site-packages\\pynverse\\inverse.py:196: RuntimeWarning: Results obtained with less than 2 decimal digits of accuracy\n",
      "  % accuracy, RuntimeWarning)\n",
      "C:\\Users\\jaiko\\Anaconda3\\lib\\site-packages\\pynverse\\inverse.py:196: RuntimeWarning: Results obtained with less than 2 decimal digits of accuracy\n",
      "  % accuracy, RuntimeWarning)\n",
      "C:\\Users\\jaiko\\Anaconda3\\lib\\site-packages\\pynverse\\inverse.py:196: RuntimeWarning: Results obtained with less than 2 decimal digits of accuracy\n",
      "  % accuracy, RuntimeWarning)\n",
      "C:\\Users\\jaiko\\Anaconda3\\lib\\site-packages\\pynverse\\inverse.py:196: RuntimeWarning: Results obtained with less than 2 decimal digits of accuracy\n",
      "  % accuracy, RuntimeWarning)\n",
      "C:\\Users\\jaiko\\Anaconda3\\lib\\site-packages\\pynverse\\inverse.py:196: RuntimeWarning: Results obtained with less than 2 decimal digits of accuracy\n",
      "  % accuracy, RuntimeWarning)\n",
      "C:\\Users\\jaiko\\Anaconda3\\lib\\site-packages\\pynverse\\inverse.py:196: RuntimeWarning: Results obtained with less than 2 decimal digits of accuracy\n",
      "  % accuracy, RuntimeWarning)\n",
      "C:\\Users\\jaiko\\Anaconda3\\lib\\site-packages\\pynverse\\inverse.py:196: RuntimeWarning: Results obtained with less than 2 decimal digits of accuracy\n",
      "  % accuracy, RuntimeWarning)\n",
      "C:\\Users\\jaiko\\Anaconda3\\lib\\site-packages\\pynverse\\inverse.py:196: RuntimeWarning: Results obtained with less than 2 decimal digits of accuracy\n",
      "  % accuracy, RuntimeWarning)\n",
      "C:\\Users\\jaiko\\Anaconda3\\lib\\site-packages\\pynverse\\inverse.py:196: RuntimeWarning: Results obtained with less than 2 decimal digits of accuracy\n",
      "  % accuracy, RuntimeWarning)\n",
      "C:\\Users\\jaiko\\Anaconda3\\lib\\site-packages\\pynverse\\inverse.py:196: RuntimeWarning: Results obtained with less than 2 decimal digits of accuracy\n",
      "  % accuracy, RuntimeWarning)\n",
      "C:\\Users\\jaiko\\Anaconda3\\lib\\site-packages\\pynverse\\inverse.py:196: RuntimeWarning: Results obtained with less than 2 decimal digits of accuracy\n",
      "  % accuracy, RuntimeWarning)\n",
      "C:\\Users\\jaiko\\Anaconda3\\lib\\site-packages\\pynverse\\inverse.py:196: RuntimeWarning: Results obtained with less than 2 decimal digits of accuracy\n",
      "  % accuracy, RuntimeWarning)\n",
      "C:\\Users\\jaiko\\Anaconda3\\lib\\site-packages\\pynverse\\inverse.py:196: RuntimeWarning: Results obtained with less than 2 decimal digits of accuracy\n",
      "  % accuracy, RuntimeWarning)\n"
     ]
    },
    {
     "name": "stderr",
     "output_type": "stream",
     "text": [
      "C:\\Users\\jaiko\\Anaconda3\\lib\\site-packages\\pynverse\\inverse.py:196: RuntimeWarning: Results obtained with less than 2 decimal digits of accuracy\n",
      "  % accuracy, RuntimeWarning)\n",
      "C:\\Users\\jaiko\\Anaconda3\\lib\\site-packages\\pynverse\\inverse.py:196: RuntimeWarning: Results obtained with less than 2 decimal digits of accuracy\n",
      "  % accuracy, RuntimeWarning)\n",
      "C:\\Users\\jaiko\\Anaconda3\\lib\\site-packages\\pynverse\\inverse.py:196: RuntimeWarning: Results obtained with less than 2 decimal digits of accuracy\n",
      "  % accuracy, RuntimeWarning)\n",
      "C:\\Users\\jaiko\\Anaconda3\\lib\\site-packages\\pynverse\\inverse.py:196: RuntimeWarning: Results obtained with less than 2 decimal digits of accuracy\n",
      "  % accuracy, RuntimeWarning)\n",
      "C:\\Users\\jaiko\\Anaconda3\\lib\\site-packages\\pynverse\\inverse.py:196: RuntimeWarning: Results obtained with less than 2 decimal digits of accuracy\n",
      "  % accuracy, RuntimeWarning)\n",
      "C:\\Users\\jaiko\\Anaconda3\\lib\\site-packages\\pynverse\\inverse.py:196: RuntimeWarning: Results obtained with less than 2 decimal digits of accuracy\n",
      "  % accuracy, RuntimeWarning)\n",
      "C:\\Users\\jaiko\\Anaconda3\\lib\\site-packages\\pynverse\\inverse.py:196: RuntimeWarning: Results obtained with less than 2 decimal digits of accuracy\n",
      "  % accuracy, RuntimeWarning)\n",
      "C:\\Users\\jaiko\\Anaconda3\\lib\\site-packages\\pynverse\\inverse.py:196: RuntimeWarning: Results obtained with less than 2 decimal digits of accuracy\n",
      "  % accuracy, RuntimeWarning)\n",
      "C:\\Users\\jaiko\\Anaconda3\\lib\\site-packages\\pynverse\\inverse.py:196: RuntimeWarning: Results obtained with less than 2 decimal digits of accuracy\n",
      "  % accuracy, RuntimeWarning)\n",
      "C:\\Users\\jaiko\\Anaconda3\\lib\\site-packages\\pynverse\\inverse.py:196: RuntimeWarning: Results obtained with less than 2 decimal digits of accuracy\n",
      "  % accuracy, RuntimeWarning)\n",
      "C:\\Users\\jaiko\\Anaconda3\\lib\\site-packages\\pynverse\\inverse.py:196: RuntimeWarning: Results obtained with less than 2 decimal digits of accuracy\n",
      "  % accuracy, RuntimeWarning)\n",
      "C:\\Users\\jaiko\\Anaconda3\\lib\\site-packages\\pynverse\\inverse.py:196: RuntimeWarning: Results obtained with less than 2 decimal digits of accuracy\n",
      "  % accuracy, RuntimeWarning)\n",
      "C:\\Users\\jaiko\\Anaconda3\\lib\\site-packages\\pynverse\\inverse.py:196: RuntimeWarning: Results obtained with less than 2 decimal digits of accuracy\n",
      "  % accuracy, RuntimeWarning)\n",
      "C:\\Users\\jaiko\\Anaconda3\\lib\\site-packages\\pynverse\\inverse.py:196: RuntimeWarning: Results obtained with less than 2 decimal digits of accuracy\n",
      "  % accuracy, RuntimeWarning)\n",
      "C:\\Users\\jaiko\\Anaconda3\\lib\\site-packages\\pynverse\\inverse.py:196: RuntimeWarning: Results obtained with less than 2 decimal digits of accuracy\n",
      "  % accuracy, RuntimeWarning)\n",
      "C:\\Users\\jaiko\\Anaconda3\\lib\\site-packages\\pynverse\\inverse.py:196: RuntimeWarning: Results obtained with less than 2 decimal digits of accuracy\n",
      "  % accuracy, RuntimeWarning)\n",
      "C:\\Users\\jaiko\\Anaconda3\\lib\\site-packages\\pynverse\\inverse.py:196: RuntimeWarning: Results obtained with less than 2 decimal digits of accuracy\n",
      "  % accuracy, RuntimeWarning)\n",
      "C:\\Users\\jaiko\\Anaconda3\\lib\\site-packages\\pynverse\\inverse.py:196: RuntimeWarning: Results obtained with less than 2 decimal digits of accuracy\n",
      "  % accuracy, RuntimeWarning)\n",
      "C:\\Users\\jaiko\\Anaconda3\\lib\\site-packages\\pynverse\\inverse.py:196: RuntimeWarning: Results obtained with less than 2 decimal digits of accuracy\n",
      "  % accuracy, RuntimeWarning)\n",
      "C:\\Users\\jaiko\\Anaconda3\\lib\\site-packages\\pynverse\\inverse.py:196: RuntimeWarning: Results obtained with less than 2 decimal digits of accuracy\n",
      "  % accuracy, RuntimeWarning)\n",
      "C:\\Users\\jaiko\\Anaconda3\\lib\\site-packages\\pynverse\\inverse.py:196: RuntimeWarning: Results obtained with less than 2 decimal digits of accuracy\n",
      "  % accuracy, RuntimeWarning)\n",
      "C:\\Users\\jaiko\\Anaconda3\\lib\\site-packages\\pynverse\\inverse.py:196: RuntimeWarning: Results obtained with less than 2 decimal digits of accuracy\n",
      "  % accuracy, RuntimeWarning)\n",
      "C:\\Users\\jaiko\\Anaconda3\\lib\\site-packages\\pynverse\\inverse.py:196: RuntimeWarning: Results obtained with less than 2 decimal digits of accuracy\n",
      "  % accuracy, RuntimeWarning)\n",
      "C:\\Users\\jaiko\\Anaconda3\\lib\\site-packages\\pynverse\\inverse.py:196: RuntimeWarning: Results obtained with less than 2 decimal digits of accuracy\n",
      "  % accuracy, RuntimeWarning)\n",
      "C:\\Users\\jaiko\\Anaconda3\\lib\\site-packages\\pynverse\\inverse.py:196: RuntimeWarning: Results obtained with less than 2 decimal digits of accuracy\n",
      "  % accuracy, RuntimeWarning)\n",
      "C:\\Users\\jaiko\\Anaconda3\\lib\\site-packages\\pynverse\\inverse.py:196: RuntimeWarning: Results obtained with less than 2 decimal digits of accuracy\n",
      "  % accuracy, RuntimeWarning)\n",
      "C:\\Users\\jaiko\\Anaconda3\\lib\\site-packages\\pynverse\\inverse.py:196: RuntimeWarning: Results obtained with less than 2 decimal digits of accuracy\n",
      "  % accuracy, RuntimeWarning)\n",
      "C:\\Users\\jaiko\\Anaconda3\\lib\\site-packages\\pynverse\\inverse.py:196: RuntimeWarning: Results obtained with less than 2 decimal digits of accuracy\n",
      "  % accuracy, RuntimeWarning)\n",
      "C:\\Users\\jaiko\\Anaconda3\\lib\\site-packages\\pynverse\\inverse.py:196: RuntimeWarning: Results obtained with less than 2 decimal digits of accuracy\n",
      "  % accuracy, RuntimeWarning)\n",
      "C:\\Users\\jaiko\\Anaconda3\\lib\\site-packages\\pynverse\\inverse.py:196: RuntimeWarning: Results obtained with less than 2 decimal digits of accuracy\n",
      "  % accuracy, RuntimeWarning)\n",
      "C:\\Users\\jaiko\\Anaconda3\\lib\\site-packages\\pynverse\\inverse.py:196: RuntimeWarning: Results obtained with less than 2 decimal digits of accuracy\n",
      "  % accuracy, RuntimeWarning)\n",
      "C:\\Users\\jaiko\\Anaconda3\\lib\\site-packages\\pynverse\\inverse.py:196: RuntimeWarning: Results obtained with less than 2 decimal digits of accuracy\n",
      "  % accuracy, RuntimeWarning)\n",
      "C:\\Users\\jaiko\\Anaconda3\\lib\\site-packages\\pynverse\\inverse.py:196: RuntimeWarning: Results obtained with less than 2 decimal digits of accuracy\n",
      "  % accuracy, RuntimeWarning)\n",
      "C:\\Users\\jaiko\\Anaconda3\\lib\\site-packages\\pynverse\\inverse.py:196: RuntimeWarning: Results obtained with less than 2 decimal digits of accuracy\n",
      "  % accuracy, RuntimeWarning)\n",
      "C:\\Users\\jaiko\\Anaconda3\\lib\\site-packages\\pynverse\\inverse.py:196: RuntimeWarning: Results obtained with less than 2 decimal digits of accuracy\n",
      "  % accuracy, RuntimeWarning)\n",
      "C:\\Users\\jaiko\\Anaconda3\\lib\\site-packages\\pynverse\\inverse.py:196: RuntimeWarning: Results obtained with less than 2 decimal digits of accuracy\n",
      "  % accuracy, RuntimeWarning)\n",
      "C:\\Users\\jaiko\\Anaconda3\\lib\\site-packages\\pynverse\\inverse.py:196: RuntimeWarning: Results obtained with less than 2 decimal digits of accuracy\n",
      "  % accuracy, RuntimeWarning)\n",
      "C:\\Users\\jaiko\\Anaconda3\\lib\\site-packages\\pynverse\\inverse.py:196: RuntimeWarning: Results obtained with less than 2 decimal digits of accuracy\n",
      "  % accuracy, RuntimeWarning)\n",
      "C:\\Users\\jaiko\\Anaconda3\\lib\\site-packages\\pynverse\\inverse.py:196: RuntimeWarning: Results obtained with less than 2 decimal digits of accuracy\n",
      "  % accuracy, RuntimeWarning)\n",
      "C:\\Users\\jaiko\\Anaconda3\\lib\\site-packages\\pynverse\\inverse.py:196: RuntimeWarning: Results obtained with less than 2 decimal digits of accuracy\n",
      "  % accuracy, RuntimeWarning)\n",
      "C:\\Users\\jaiko\\Anaconda3\\lib\\site-packages\\pynverse\\inverse.py:196: RuntimeWarning: Results obtained with less than 2 decimal digits of accuracy\n",
      "  % accuracy, RuntimeWarning)\n",
      "C:\\Users\\jaiko\\Anaconda3\\lib\\site-packages\\pynverse\\inverse.py:196: RuntimeWarning: Results obtained with less than 2 decimal digits of accuracy\n",
      "  % accuracy, RuntimeWarning)\n",
      "C:\\Users\\jaiko\\Anaconda3\\lib\\site-packages\\pynverse\\inverse.py:196: RuntimeWarning: Results obtained with less than 2 decimal digits of accuracy\n",
      "  % accuracy, RuntimeWarning)\n",
      "C:\\Users\\jaiko\\Anaconda3\\lib\\site-packages\\pynverse\\inverse.py:196: RuntimeWarning: Results obtained with less than 2 decimal digits of accuracy\n",
      "  % accuracy, RuntimeWarning)\n",
      "C:\\Users\\jaiko\\Anaconda3\\lib\\site-packages\\pynverse\\inverse.py:196: RuntimeWarning: Results obtained with less than 2 decimal digits of accuracy\n",
      "  % accuracy, RuntimeWarning)\n",
      "C:\\Users\\jaiko\\Anaconda3\\lib\\site-packages\\pynverse\\inverse.py:196: RuntimeWarning: Results obtained with less than 2 decimal digits of accuracy\n",
      "  % accuracy, RuntimeWarning)\n",
      "C:\\Users\\jaiko\\Anaconda3\\lib\\site-packages\\pynverse\\inverse.py:196: RuntimeWarning: Results obtained with less than 2 decimal digits of accuracy\n",
      "  % accuracy, RuntimeWarning)\n",
      "C:\\Users\\jaiko\\Anaconda3\\lib\\site-packages\\pynverse\\inverse.py:196: RuntimeWarning: Results obtained with less than 2 decimal digits of accuracy\n",
      "  % accuracy, RuntimeWarning)\n",
      "C:\\Users\\jaiko\\Anaconda3\\lib\\site-packages\\pynverse\\inverse.py:196: RuntimeWarning: Results obtained with less than 2 decimal digits of accuracy\n",
      "  % accuracy, RuntimeWarning)\n"
     ]
    },
    {
     "name": "stderr",
     "output_type": "stream",
     "text": [
      "C:\\Users\\jaiko\\Anaconda3\\lib\\site-packages\\pynverse\\inverse.py:196: RuntimeWarning: Results obtained with less than 2 decimal digits of accuracy\n",
      "  % accuracy, RuntimeWarning)\n",
      "C:\\Users\\jaiko\\Anaconda3\\lib\\site-packages\\pynverse\\inverse.py:196: RuntimeWarning: Results obtained with less than 2 decimal digits of accuracy\n",
      "  % accuracy, RuntimeWarning)\n",
      "C:\\Users\\jaiko\\Anaconda3\\lib\\site-packages\\pynverse\\inverse.py:196: RuntimeWarning: Results obtained with less than 2 decimal digits of accuracy\n",
      "  % accuracy, RuntimeWarning)\n",
      "C:\\Users\\jaiko\\Anaconda3\\lib\\site-packages\\pynverse\\inverse.py:196: RuntimeWarning: Results obtained with less than 2 decimal digits of accuracy\n",
      "  % accuracy, RuntimeWarning)\n",
      "C:\\Users\\jaiko\\Anaconda3\\lib\\site-packages\\pynverse\\inverse.py:196: RuntimeWarning: Results obtained with less than 2 decimal digits of accuracy\n",
      "  % accuracy, RuntimeWarning)\n",
      "C:\\Users\\jaiko\\Anaconda3\\lib\\site-packages\\pynverse\\inverse.py:196: RuntimeWarning: Results obtained with less than 2 decimal digits of accuracy\n",
      "  % accuracy, RuntimeWarning)\n",
      "C:\\Users\\jaiko\\Anaconda3\\lib\\site-packages\\pynverse\\inverse.py:196: RuntimeWarning: Results obtained with less than 2 decimal digits of accuracy\n",
      "  % accuracy, RuntimeWarning)\n",
      "C:\\Users\\jaiko\\Anaconda3\\lib\\site-packages\\pynverse\\inverse.py:196: RuntimeWarning: Results obtained with less than 2 decimal digits of accuracy\n",
      "  % accuracy, RuntimeWarning)\n",
      "C:\\Users\\jaiko\\Anaconda3\\lib\\site-packages\\pynverse\\inverse.py:196: RuntimeWarning: Results obtained with less than 2 decimal digits of accuracy\n",
      "  % accuracy, RuntimeWarning)\n",
      "C:\\Users\\jaiko\\Anaconda3\\lib\\site-packages\\pynverse\\inverse.py:196: RuntimeWarning: Results obtained with less than 2 decimal digits of accuracy\n",
      "  % accuracy, RuntimeWarning)\n",
      "C:\\Users\\jaiko\\Anaconda3\\lib\\site-packages\\pynverse\\inverse.py:196: RuntimeWarning: Results obtained with less than 2 decimal digits of accuracy\n",
      "  % accuracy, RuntimeWarning)\n",
      "C:\\Users\\jaiko\\Anaconda3\\lib\\site-packages\\pynverse\\inverse.py:196: RuntimeWarning: Results obtained with less than 2 decimal digits of accuracy\n",
      "  % accuracy, RuntimeWarning)\n",
      "C:\\Users\\jaiko\\Anaconda3\\lib\\site-packages\\pynverse\\inverse.py:196: RuntimeWarning: Results obtained with less than 2 decimal digits of accuracy\n",
      "  % accuracy, RuntimeWarning)\n",
      "C:\\Users\\jaiko\\Anaconda3\\lib\\site-packages\\pynverse\\inverse.py:196: RuntimeWarning: Results obtained with less than 2 decimal digits of accuracy\n",
      "  % accuracy, RuntimeWarning)\n",
      "C:\\Users\\jaiko\\Anaconda3\\lib\\site-packages\\pynverse\\inverse.py:196: RuntimeWarning: Results obtained with less than 2 decimal digits of accuracy\n",
      "  % accuracy, RuntimeWarning)\n",
      "C:\\Users\\jaiko\\Anaconda3\\lib\\site-packages\\pynverse\\inverse.py:196: RuntimeWarning: Results obtained with less than 2 decimal digits of accuracy\n",
      "  % accuracy, RuntimeWarning)\n",
      "C:\\Users\\jaiko\\Anaconda3\\lib\\site-packages\\pynverse\\inverse.py:196: RuntimeWarning: Results obtained with less than 2 decimal digits of accuracy\n",
      "  % accuracy, RuntimeWarning)\n",
      "C:\\Users\\jaiko\\Anaconda3\\lib\\site-packages\\pynverse\\inverse.py:196: RuntimeWarning: Results obtained with less than 2 decimal digits of accuracy\n",
      "  % accuracy, RuntimeWarning)\n",
      "C:\\Users\\jaiko\\Anaconda3\\lib\\site-packages\\pynverse\\inverse.py:196: RuntimeWarning: Results obtained with less than 2 decimal digits of accuracy\n",
      "  % accuracy, RuntimeWarning)\n",
      "C:\\Users\\jaiko\\Anaconda3\\lib\\site-packages\\pynverse\\inverse.py:196: RuntimeWarning: Results obtained with less than 2 decimal digits of accuracy\n",
      "  % accuracy, RuntimeWarning)\n",
      "C:\\Users\\jaiko\\Anaconda3\\lib\\site-packages\\pynverse\\inverse.py:196: RuntimeWarning: Results obtained with less than 2 decimal digits of accuracy\n",
      "  % accuracy, RuntimeWarning)\n",
      "C:\\Users\\jaiko\\Anaconda3\\lib\\site-packages\\pynverse\\inverse.py:196: RuntimeWarning: Results obtained with less than 2 decimal digits of accuracy\n",
      "  % accuracy, RuntimeWarning)\n",
      "C:\\Users\\jaiko\\Anaconda3\\lib\\site-packages\\pynverse\\inverse.py:196: RuntimeWarning: Results obtained with less than 2 decimal digits of accuracy\n",
      "  % accuracy, RuntimeWarning)\n",
      "C:\\Users\\jaiko\\Anaconda3\\lib\\site-packages\\pynverse\\inverse.py:196: RuntimeWarning: Results obtained with less than 2 decimal digits of accuracy\n",
      "  % accuracy, RuntimeWarning)\n",
      "C:\\Users\\jaiko\\Anaconda3\\lib\\site-packages\\pynverse\\inverse.py:196: RuntimeWarning: Results obtained with less than 2 decimal digits of accuracy\n",
      "  % accuracy, RuntimeWarning)\n",
      "C:\\Users\\jaiko\\Anaconda3\\lib\\site-packages\\pynverse\\inverse.py:196: RuntimeWarning: Results obtained with less than 2 decimal digits of accuracy\n",
      "  % accuracy, RuntimeWarning)\n",
      "C:\\Users\\jaiko\\Anaconda3\\lib\\site-packages\\pynverse\\inverse.py:196: RuntimeWarning: Results obtained with less than 2 decimal digits of accuracy\n",
      "  % accuracy, RuntimeWarning)\n",
      "C:\\Users\\jaiko\\Anaconda3\\lib\\site-packages\\pynverse\\inverse.py:196: RuntimeWarning: Results obtained with less than 2 decimal digits of accuracy\n",
      "  % accuracy, RuntimeWarning)\n",
      "C:\\Users\\jaiko\\Anaconda3\\lib\\site-packages\\pynverse\\inverse.py:196: RuntimeWarning: Results obtained with less than 2 decimal digits of accuracy\n",
      "  % accuracy, RuntimeWarning)\n",
      "C:\\Users\\jaiko\\Anaconda3\\lib\\site-packages\\pynverse\\inverse.py:196: RuntimeWarning: Results obtained with less than 2 decimal digits of accuracy\n",
      "  % accuracy, RuntimeWarning)\n",
      "C:\\Users\\jaiko\\Anaconda3\\lib\\site-packages\\pynverse\\inverse.py:196: RuntimeWarning: Results obtained with less than 2 decimal digits of accuracy\n",
      "  % accuracy, RuntimeWarning)\n",
      "C:\\Users\\jaiko\\Anaconda3\\lib\\site-packages\\pynverse\\inverse.py:196: RuntimeWarning: Results obtained with less than 2 decimal digits of accuracy\n",
      "  % accuracy, RuntimeWarning)\n",
      "C:\\Users\\jaiko\\Anaconda3\\lib\\site-packages\\pynverse\\inverse.py:196: RuntimeWarning: Results obtained with less than 2 decimal digits of accuracy\n",
      "  % accuracy, RuntimeWarning)\n",
      "C:\\Users\\jaiko\\Anaconda3\\lib\\site-packages\\pynverse\\inverse.py:196: RuntimeWarning: Results obtained with less than 2 decimal digits of accuracy\n",
      "  % accuracy, RuntimeWarning)\n",
      "C:\\Users\\jaiko\\Anaconda3\\lib\\site-packages\\pynverse\\inverse.py:196: RuntimeWarning: Results obtained with less than 2 decimal digits of accuracy\n",
      "  % accuracy, RuntimeWarning)\n",
      "C:\\Users\\jaiko\\Anaconda3\\lib\\site-packages\\pynverse\\inverse.py:196: RuntimeWarning: Results obtained with less than 2 decimal digits of accuracy\n",
      "  % accuracy, RuntimeWarning)\n",
      "C:\\Users\\jaiko\\Anaconda3\\lib\\site-packages\\pynverse\\inverse.py:196: RuntimeWarning: Results obtained with less than 2 decimal digits of accuracy\n",
      "  % accuracy, RuntimeWarning)\n",
      "C:\\Users\\jaiko\\Anaconda3\\lib\\site-packages\\pynverse\\inverse.py:196: RuntimeWarning: Results obtained with less than 2 decimal digits of accuracy\n",
      "  % accuracy, RuntimeWarning)\n",
      "C:\\Users\\jaiko\\Anaconda3\\lib\\site-packages\\pynverse\\inverse.py:196: RuntimeWarning: Results obtained with less than 2 decimal digits of accuracy\n",
      "  % accuracy, RuntimeWarning)\n",
      "C:\\Users\\jaiko\\Anaconda3\\lib\\site-packages\\pynverse\\inverse.py:196: RuntimeWarning: Results obtained with less than 2 decimal digits of accuracy\n",
      "  % accuracy, RuntimeWarning)\n",
      "C:\\Users\\jaiko\\Anaconda3\\lib\\site-packages\\pynverse\\inverse.py:196: RuntimeWarning: Results obtained with less than 2 decimal digits of accuracy\n",
      "  % accuracy, RuntimeWarning)\n",
      "C:\\Users\\jaiko\\Anaconda3\\lib\\site-packages\\pynverse\\inverse.py:196: RuntimeWarning: Results obtained with less than 2 decimal digits of accuracy\n",
      "  % accuracy, RuntimeWarning)\n",
      "C:\\Users\\jaiko\\Anaconda3\\lib\\site-packages\\pynverse\\inverse.py:196: RuntimeWarning: Results obtained with less than 2 decimal digits of accuracy\n",
      "  % accuracy, RuntimeWarning)\n",
      "C:\\Users\\jaiko\\Anaconda3\\lib\\site-packages\\pynverse\\inverse.py:196: RuntimeWarning: Results obtained with less than 2 decimal digits of accuracy\n",
      "  % accuracy, RuntimeWarning)\n",
      "C:\\Users\\jaiko\\Anaconda3\\lib\\site-packages\\pynverse\\inverse.py:196: RuntimeWarning: Results obtained with less than 2 decimal digits of accuracy\n",
      "  % accuracy, RuntimeWarning)\n",
      "C:\\Users\\jaiko\\Anaconda3\\lib\\site-packages\\pynverse\\inverse.py:196: RuntimeWarning: Results obtained with less than 2 decimal digits of accuracy\n",
      "  % accuracy, RuntimeWarning)\n",
      "C:\\Users\\jaiko\\Anaconda3\\lib\\site-packages\\pynverse\\inverse.py:196: RuntimeWarning: Results obtained with less than 2 decimal digits of accuracy\n",
      "  % accuracy, RuntimeWarning)\n",
      "C:\\Users\\jaiko\\Anaconda3\\lib\\site-packages\\pynverse\\inverse.py:196: RuntimeWarning: Results obtained with less than 2 decimal digits of accuracy\n",
      "  % accuracy, RuntimeWarning)\n",
      "C:\\Users\\jaiko\\Anaconda3\\lib\\site-packages\\pynverse\\inverse.py:196: RuntimeWarning: Results obtained with less than 2 decimal digits of accuracy\n",
      "  % accuracy, RuntimeWarning)\n",
      "C:\\Users\\jaiko\\Anaconda3\\lib\\site-packages\\pynverse\\inverse.py:196: RuntimeWarning: Results obtained with less than 2 decimal digits of accuracy\n",
      "  % accuracy, RuntimeWarning)\n",
      "C:\\Users\\jaiko\\Anaconda3\\lib\\site-packages\\pynverse\\inverse.py:196: RuntimeWarning: Results obtained with less than 2 decimal digits of accuracy\n",
      "  % accuracy, RuntimeWarning)\n"
     ]
    },
    {
     "name": "stderr",
     "output_type": "stream",
     "text": [
      "C:\\Users\\jaiko\\Anaconda3\\lib\\site-packages\\pynverse\\inverse.py:196: RuntimeWarning: Results obtained with less than 2 decimal digits of accuracy\n",
      "  % accuracy, RuntimeWarning)\n",
      "C:\\Users\\jaiko\\Anaconda3\\lib\\site-packages\\pynverse\\inverse.py:196: RuntimeWarning: Results obtained with less than 2 decimal digits of accuracy\n",
      "  % accuracy, RuntimeWarning)\n",
      "C:\\Users\\jaiko\\Anaconda3\\lib\\site-packages\\pynverse\\inverse.py:196: RuntimeWarning: Results obtained with less than 2 decimal digits of accuracy\n",
      "  % accuracy, RuntimeWarning)\n",
      "C:\\Users\\jaiko\\Anaconda3\\lib\\site-packages\\pynverse\\inverse.py:196: RuntimeWarning: Results obtained with less than 2 decimal digits of accuracy\n",
      "  % accuracy, RuntimeWarning)\n",
      "C:\\Users\\jaiko\\Anaconda3\\lib\\site-packages\\pynverse\\inverse.py:196: RuntimeWarning: Results obtained with less than 2 decimal digits of accuracy\n",
      "  % accuracy, RuntimeWarning)\n",
      "C:\\Users\\jaiko\\Anaconda3\\lib\\site-packages\\pynverse\\inverse.py:196: RuntimeWarning: Results obtained with less than 2 decimal digits of accuracy\n",
      "  % accuracy, RuntimeWarning)\n",
      "C:\\Users\\jaiko\\Anaconda3\\lib\\site-packages\\pynverse\\inverse.py:196: RuntimeWarning: Results obtained with less than 2 decimal digits of accuracy\n",
      "  % accuracy, RuntimeWarning)\n"
     ]
    }
   ],
   "source": [
    "from statsmodels.distributions.empirical_distribution import ECDF\n",
    "from pynverse import inversefunc\n",
    "from scipy.stats import norm, binom, expon\n",
    "\n",
    "def true_one(x):\n",
    "    A = norm.cdf(x)\n",
    "    B = binom.cdf(x, n = 10, p = 1/3)\n",
    "    C = expon.cdf(x)\n",
    "    return 1/3 * (A + B + C)\n",
    "\n",
    "inv_tru_one = inversefunc(true_one) #invese of function\n",
    "\n",
    "def inverse_generator(length):\n",
    "    X = []\n",
    "    for i in range(length):\n",
    "        U = np.random.uniform()\n",
    "        X.append(inv_tru_one(U))\n",
    "    return X\n",
    "    \n",
    "\n",
    "\n",
    "ecdf = ECDF(inverse_generator(1000))"
   ]
  },
  {
   "cell_type": "code",
   "execution_count": 13,
   "metadata": {
    "scrolled": true
   },
   "outputs": [
    {
     "data": {
      "text/plain": [
       "<matplotlib.collections.PathCollection at 0x20216fd2788>"
      ]
     },
     "execution_count": 13,
     "metadata": {},
     "output_type": "execute_result"
    },
    {
     "data": {
      "image/png": "[encoded data removed]",
      "text/plain": [
       "<Figure size 432x288 with 1 Axes>"
      ]
     },
     "metadata": {
      "needs_background": "light"
     },
     "output_type": "display_data"
    }
   ],
   "source": [
    "x = np.arange(-10, 10, 0.01)\n",
    "plt.scatter(x,ecdf(x), s = 2, alpha = 0.5)"
   ]
  },
  {
   "cell_type": "markdown",
   "metadata": {},
   "source": [
    "### Dystrybuanta teoretyczna"
   ]
  },
  {
   "cell_type": "code",
   "execution_count": 112,
   "metadata": {},
   "outputs": [
    {
     "data": {
      "text/plain": [
       "<matplotlib.collections.PathCollection at 0x1faa5221548>"
      ]
     },
     "execution_count": 112,
     "metadata": {},
     "output_type": "execute_result"
    },
    {
     "data": {
      "image/png": "[encoded data removed]",
      "text/plain": [
       "<Figure size 432x288 with 1 Axes>"
      ]
     },
     "metadata": {
      "needs_background": "light"
     },
     "output_type": "display_data"
    }
   ],
   "source": [
    "from scipy.stats import norm, binom, expon\n",
    "x = np.arange(-10, 10, 0.0001)\n",
    "A = norm.cdf(x)\n",
    "B = binom.cdf(x, n = 10, p = 1/3)\n",
    "C = expon.cdf(x)\n",
    "\n",
    "F = 1/3 * (A + B + C)\n",
    "\n",
    "plt.scatter(x,F, s = 2, alpha = 0.5)\n"
   ]
  },
  {
   "cell_type": "markdown",
   "metadata": {},
   "source": [
    "## Zad5"
   ]
  },
  {
   "cell_type": "markdown",
   "metadata": {},
   "source": [
    "### JKISS"
   ]
  },
  {
   "cell_type": "code",
   "execution_count": null,
   "metadata": {},
   "outputs": [],
   "source": [
    "%load_ext Cython"
   ]
  },
  {
   "cell_type": "code",
   "execution_count": 83,
   "metadata": {},
   "outputs": [
    {
     "name": "stdout",
     "output_type": "stream",
     "text": [
      "0.23337650299072266\n"
     ]
    }
   ],
   "source": [
    "%%cython\n",
    "\n",
    "cdef unsigned int x = 123456789\n",
    "cdef unsigned int y = 987654321\n",
    "cdef unsigned int z = 43219876\n",
    "cdef unsigned int c = 6543217\n",
    "import time\n",
    "\n",
    "cdef int JKISS():\n",
    "    global x,y,z,c\n",
    "    x = 314527869 * x + 1234567\n",
    "    y = y ^ (y << 5)\n",
    "    y = y ^ (y >> 7)\n",
    "    y = y ^ (y << 22)\n",
    "    cdef unsigned long long t = 4294584393 * z + c\n",
    "    c = (t >> 32)\n",
    "    z = t\n",
    "    \n",
    "    return x + y + z\n",
    "\n",
    "start = time.time()\n",
    "for i in range(1000000):\n",
    "    JKISS()\n",
    "end = time.time()\n",
    "jkiss = end - start\n",
    "print(jkiss)"
   ]
  },
  {
   "cell_type": "markdown",
   "metadata": {},
   "source": [
    "### Random.randint()"
   ]
  },
  {
   "cell_type": "code",
   "execution_count": 91,
   "metadata": {},
   "outputs": [
    {
     "name": "stdout",
     "output_type": "stream",
     "text": [
      "1.6894550323486328\n"
     ]
    }
   ],
   "source": [
    "import random\n",
    "start = time.time()\n",
    "for i in range(1000000):\n",
    "    random.randint(0, 2**32-1)\n",
    "end = time.time()\n",
    "Random = end - start\n",
    "print(Random)"
   ]
  },
  {
   "cell_type": "markdown",
   "metadata": {},
   "source": [
    "## Liniowy"
   ]
  },
  {
   "cell_type": "code",
   "execution_count": 88,
   "metadata": {},
   "outputs": [],
   "source": [
    "k = 1\n",
    "m = 2**35\n",
    "a1 = np.floor(math.pi*10**9)\n",
    "a0 = np.floor(math.e*10**9)\n",
    "x = 11"
   ]
  },
  {
   "cell_type": "code",
   "execution_count": 89,
   "metadata": {},
   "outputs": [
    {
     "name": "stdout",
     "output_type": "stream",
     "text": [
      "2.6997859477996826\n"
     ]
    }
   ],
   "source": [
    "start = time.time()\n",
    "for i in range(1000000):\n",
    "    ((a1*x+a0)%m)/m\n",
    "    x = ((a1*x+a0)%m)\n",
    "end = time.time()\n",
    "Liniowy = end - start\n",
    "print(Liniowy)"
   ]
  }
 ],
 "metadata": {
  "kernelspec": {
   "display_name": "Python 3",
   "language": "python",
   "name": "python3"
  },
  "language_info": {
   "codemirror_mode": {
    "name": "ipython",
    "version": 3
   },
   "file_extension": ".py",
   "mimetype": "text/x-python",
   "name": "python",
   "nbconvert_exporter": "python",
   "pygments_lexer": "ipython3",
   "version": "3.7.6"
  }
 },
 "nbformat": 4,
 "nbformat_minor": 2
}
